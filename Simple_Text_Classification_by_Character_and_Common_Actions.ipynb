{
  "nbformat": 4,
  "nbformat_minor": 0,
  "metadata": {
    "colab": {
      "provenance": [],
      "authorship_tag": "ABX9TyOAAdLtqRarwQ7wiFwBEGZr",
      "include_colab_link": true
    },
    "kernelspec": {
      "name": "python3",
      "display_name": "Python 3"
    },
    "language_info": {
      "name": "python"
    }
  },
  "cells": [
    {
      "cell_type": "markdown",
      "metadata": {
        "id": "view-in-github",
        "colab_type": "text"
      },
      "source": [
        "<a href=\"https://colab.research.google.com/github/alankent/OrdinaryCartoonMaker/blob/main/Simple_Text_Classification_by_Character_and_Common_Actions.ipynb\" target=\"_parent\"><img src=\"https://colab.research.google.com/assets/colab-badge.svg\" alt=\"Open In Colab\"/></a>"
      ]
    },
    {
      "cell_type": "markdown",
      "source": [
        "# A simple text classification demonstration\n",
        "\n",
        "Challenge: Given a description of a camera shot in a screenplay, can we work out the characters in the shot and the actions they are taking?"
      ],
      "metadata": {
        "id": "FttmmHt5P8T8"
      }
    },
    {
      "cell_type": "markdown",
      "source": [
        "https://practicaldatascience.co.uk/machine-learning/how-to-classify-customer-service-emails-with-bart-mnli"
      ],
      "metadata": {
        "id": "wGTX_V5HKFyF"
      }
    },
    {
      "cell_type": "markdown",
      "source": [
        "Install the required python libraries"
      ],
      "metadata": {
        "id": "KOhBNXxmP1Z3"
      }
    },
    {
      "cell_type": "code",
      "source": [
        "!pip install transformers pandas"
      ],
      "metadata": {
        "colab": {
          "base_uri": "https://localhost:8080/"
        },
        "id": "3pbfP-h_JVRO",
        "outputId": "bf142e4e-b7a6-4358-c2cf-6f425f7da66d"
      },
      "execution_count": 38,
      "outputs": [
        {
          "output_type": "stream",
          "name": "stdout",
          "text": [
            "Looking in indexes: https://pypi.org/simple, https://us-python.pkg.dev/colab-wheels/public/simple/\n",
            "Requirement already satisfied: transformers in /usr/local/lib/python3.9/dist-packages (4.26.1)\n",
            "Requirement already satisfied: pandas in /usr/local/lib/python3.9/dist-packages (1.3.5)\n",
            "Requirement already satisfied: packaging>=20.0 in /usr/local/lib/python3.9/dist-packages (from transformers) (23.0)\n",
            "Requirement already satisfied: filelock in /usr/local/lib/python3.9/dist-packages (from transformers) (3.9.0)\n",
            "Requirement already satisfied: tqdm>=4.27 in /usr/local/lib/python3.9/dist-packages (from transformers) (4.65.0)\n",
            "Requirement already satisfied: regex!=2019.12.17 in /usr/local/lib/python3.9/dist-packages (from transformers) (2022.6.2)\n",
            "Requirement already satisfied: numpy>=1.17 in /usr/local/lib/python3.9/dist-packages (from transformers) (1.22.4)\n",
            "Requirement already satisfied: requests in /usr/local/lib/python3.9/dist-packages (from transformers) (2.25.1)\n",
            "Requirement already satisfied: huggingface-hub<1.0,>=0.11.0 in /usr/local/lib/python3.9/dist-packages (from transformers) (0.13.1)\n",
            "Requirement already satisfied: tokenizers!=0.11.3,<0.14,>=0.11.1 in /usr/local/lib/python3.9/dist-packages (from transformers) (0.13.2)\n",
            "Requirement already satisfied: pyyaml>=5.1 in /usr/local/lib/python3.9/dist-packages (from transformers) (6.0)\n",
            "Requirement already satisfied: python-dateutil>=2.7.3 in /usr/local/lib/python3.9/dist-packages (from pandas) (2.8.2)\n",
            "Requirement already satisfied: pytz>=2017.3 in /usr/local/lib/python3.9/dist-packages (from pandas) (2022.7.1)\n",
            "Requirement already satisfied: typing-extensions>=3.7.4.3 in /usr/local/lib/python3.9/dist-packages (from huggingface-hub<1.0,>=0.11.0->transformers) (4.5.0)\n",
            "Requirement already satisfied: six>=1.5 in /usr/local/lib/python3.9/dist-packages (from python-dateutil>=2.7.3->pandas) (1.15.0)\n",
            "Requirement already satisfied: urllib3<1.27,>=1.21.1 in /usr/local/lib/python3.9/dist-packages (from requests->transformers) (1.26.14)\n",
            "Requirement already satisfied: idna<3,>=2.5 in /usr/local/lib/python3.9/dist-packages (from requests->transformers) (2.10)\n",
            "Requirement already satisfied: chardet<5,>=3.0.2 in /usr/local/lib/python3.9/dist-packages (from requests->transformers) (4.0.0)\n",
            "Requirement already satisfied: certifi>=2017.4.17 in /usr/local/lib/python3.9/dist-packages (from requests->transformers) (2022.12.7)\n"
          ]
        }
      ]
    },
    {
      "cell_type": "markdown",
      "source": [
        "Pick the classifications we want to pick for each segment of text. Here I include the names of the characters and some common actions they perform for which I have animation clips."
      ],
      "metadata": {
        "id": "iHkcNab-QkZL"
      }
    },
    {
      "cell_type": "code",
      "execution_count": 50,
      "metadata": {
        "id": "9AXePjWFJJNu"
      },
      "outputs": [],
      "source": [
        "labels = ['Abigail', 'Amy', 'Bear', 'Cathy', 'Deb', 'DebInBlack', 'Doug', 'Elanor', 'Hank', 'Helen', 'Ivy', 'Liana', 'Mandy', 'MrsB', 'MrsShort', 'Nathan', 'Sam', 'Terry', 'Tom',\n",
        "          'sit', 'stand', 'walk', 'jog', 'run', 'wave', 'happy', 'angry', 'eye roll', 'embarassed', 'shy', 'worried', 'shocked', 'bored']\n"
      ]
    },
    {
      "cell_type": "markdown",
      "source": [
        "Load up the Hugging Face pipeline"
      ],
      "metadata": {
        "id": "NxnKqUpzTj8O"
      }
    },
    {
      "cell_type": "code",
      "source": [
        "from transformers import pipeline\n"
      ],
      "metadata": {
        "id": "92-DnHa6JRZv"
      },
      "execution_count": 40,
      "outputs": []
    },
    {
      "cell_type": "markdown",
      "source": [
        "Create a classifiers. Zero-shot classification can work out new classification categories without prior training. It uses the text of the labels to come up with classifications on the fly."
      ],
      "metadata": {
        "id": "8AumkX3_Tpml"
      }
    },
    {
      "cell_type": "code",
      "source": [
        "classifier = pipeline('zero-shot-classification', model='facebook/bart-large-mnli')\n"
      ],
      "metadata": {
        "id": "v3jRqxzKJ47b"
      },
      "execution_count": 41,
      "outputs": []
    },
    {
      "cell_type": "markdown",
      "source": [
        "Helper function to call the classifier then print all the labels with a score of 0.5 or higher."
      ],
      "metadata": {
        "id": "7Pxy1brUT1lk"
      }
    },
    {
      "cell_type": "code",
      "source": [
        "def analyze(text):\n",
        "  result = classifier(text, labels, multi_label=True)\n",
        "  return (text, [label for index, label in enumerate(result['labels']) if result['scores'][index] >= 0.5])"
      ],
      "metadata": {
        "id": "U93AhYbCN4MB"
      },
      "execution_count": 42,
      "outputs": []
    },
    {
      "cell_type": "markdown",
      "source": [
        "A nice easy starting point. It guessed emotions (incorrectly), but got the actions right."
      ],
      "metadata": {
        "id": "D4Nm-5e9UA2w"
      }
    },
    {
      "cell_type": "code",
      "source": [
        "analyze(\"Sam ran to the chair and sat down.\")"
      ],
      "metadata": {
        "colab": {
          "base_uri": "https://localhost:8080/"
        },
        "id": "M4BogX9QKCwQ",
        "outputId": "cfe1cefa-b402-433f-8f29-a321cb441263"
      },
      "execution_count": 43,
      "outputs": [
        {
          "output_type": "execute_result",
          "data": {
            "text/plain": [
              "('Sam ran to the chair and sat down.', ['Sam', 'sit', 'run', 'worried', 'shy'])"
            ]
          },
          "metadata": {},
          "execution_count": 43
        }
      ]
    },
    {
      "cell_type": "markdown",
      "source": [
        "It picks up the mentioning of \"Hank's chair\" as a reference to Hank."
      ],
      "metadata": {
        "id": "svVhnN_cUHGA"
      }
    },
    {
      "cell_type": "code",
      "source": [
        "analyze(\"Sam ran to Hank's chair and sat down.\")"
      ],
      "metadata": {
        "colab": {
          "base_uri": "https://localhost:8080/"
        },
        "id": "KkiBBqrdKiw6",
        "outputId": "a3395e83-c0e6-4e6d-ae36-6a7274b17632"
      },
      "execution_count": 44,
      "outputs": [
        {
          "output_type": "execute_result",
          "data": {
            "text/plain": [
              "(\"Sam ran to Hank's chair and sat down.\",\n",
              " ['sit', 'Hank', 'Sam', 'run', 'worried'])"
            ]
          },
          "metadata": {},
          "execution_count": 44
        }
      ]
    },
    {
      "cell_type": "markdown",
      "source": [
        "It picked up that he was angry without using that word directly."
      ],
      "metadata": {
        "id": "vFmxCsYpURBD"
      }
    },
    {
      "cell_type": "code",
      "source": [
        "analyze(\"Sam ran to his desk and sat down. He was upset that he was late again to school.\")"
      ],
      "metadata": {
        "colab": {
          "base_uri": "https://localhost:8080/"
        },
        "id": "Wer7BRXcLhZD",
        "outputId": "c61044db-74ec-4572-f28e-c6d342a16c4e"
      },
      "execution_count": 45,
      "outputs": [
        {
          "output_type": "execute_result",
          "data": {
            "text/plain": [
              "('Sam ran to his desk and sat down. He was upset that he was late again to school.',\n",
              " ['Sam', 'angry', 'worried', 'sit', 'embarassed', 'run'])"
            ]
          },
          "metadata": {},
          "execution_count": 45
        }
      ]
    },
    {
      "cell_type": "markdown",
      "source": [
        "Note that it picked up \"MrsB\" from the labels that was written \"Mrs B\" in the text."
      ],
      "metadata": {
        "id": "eoPflsRlUjiL"
      }
    },
    {
      "cell_type": "code",
      "source": [
        "analyze(\"Sam walked beside Mrs B, and smiling, asked if he could help her.\")"
      ],
      "metadata": {
        "colab": {
          "base_uri": "https://localhost:8080/"
        },
        "id": "t68EgjOwL_Qg",
        "outputId": "cdd4bbb0-acdb-4356-ef54-2da6e942f5ab"
      },
      "execution_count": 51,
      "outputs": [
        {
          "output_type": "execute_result",
          "data": {
            "text/plain": [
              "('Sam walked beside Mrs B, and smiling, asked if he could help her.',\n",
              " ['Sam', 'happy', 'walk', 'MrsB', 'run', 'stand', 'shy'])"
            ]
          },
          "metadata": {},
          "execution_count": 51
        }
      ]
    },
    {
      "cell_type": "markdown",
      "source": [
        "It correctly picked up Mrs Short instead of Mrs B, and got some emotions from the act of throwing the book. More emtions than wanted, but it did pick \"angry\" without that word appearing in the text. Maybe keep the first 5 labels (if score is over 0.5), but keep all people references. That might filter down the list a bit better."
      ],
      "metadata": {
        "id": "Kygn_yRDUqw8"
      }
    },
    {
      "cell_type": "code",
      "source": [
        "analyze(\"Mrs Short threw the book at Hank and told him to sit down in his seat.\")"
      ],
      "metadata": {
        "colab": {
          "base_uri": "https://localhost:8080/"
        },
        "id": "fTXRlLUaMYDz",
        "outputId": "cae7187e-5f39-4ff8-b2a2-946340c1929c"
      },
      "execution_count": 47,
      "outputs": [
        {
          "output_type": "execute_result",
          "data": {
            "text/plain": [
              "('Mrs Short threw the book at Hank and told him to sit down in his seat.',\n",
              " ['sit',\n",
              "  'Hank',\n",
              "  'angry',\n",
              "  'shocked',\n",
              "  'worried',\n",
              "  'MrsShort',\n",
              "  'embarassed',\n",
              "  'run',\n",
              "  'shy'])"
            ]
          },
          "metadata": {},
          "execution_count": 47
        }
      ]
    },
    {
      "cell_type": "markdown",
      "source": [
        "Picked up the eye roll, but had a lot of extra wrong actions (like running instead of walking to leave the room). Note the mention of \"joke\" did not trigger \"happy\" as an emotion."
      ],
      "metadata": {
        "id": "i7zQRlTWRKD2"
      }
    },
    {
      "cell_type": "code",
      "source": [
        "analyze(\"Hank rolled his eyes at the terrible joke Sam made and left the room.\")"
      ],
      "metadata": {
        "colab": {
          "base_uri": "https://localhost:8080/"
        },
        "id": "U3tE03cWQ1Yz",
        "outputId": "8b1a09db-bff7-43f6-9e5a-4d7ea23cf06f"
      },
      "execution_count": 48,
      "outputs": [
        {
          "output_type": "execute_result",
          "data": {
            "text/plain": [
              "('Hank rolled his eyes at the terrible joke Sam made and left the room.',\n",
              " ['Hank',\n",
              "  'eye roll',\n",
              "  'embarassed',\n",
              "  'Sam',\n",
              "  'shocked',\n",
              "  'angry',\n",
              "  'worried',\n",
              "  'run'])"
            ]
          },
          "metadata": {},
          "execution_count": 48
        }
      ]
    },
    {
      "cell_type": "code",
      "source": [
        "classifier(\"Hank rolled his eyes at the terrible joke Sam made and left the room.\", labels, multi_label=True)"
      ],
      "metadata": {
        "colab": {
          "base_uri": "https://localhost:8080/"
        },
        "id": "B-ZpMSk1RSma",
        "outputId": "4818ea62-5855-4268-9e4a-2425393ca84c"
      },
      "execution_count": 49,
      "outputs": [
        {
          "output_type": "execute_result",
          "data": {
            "text/plain": [
              "{'sequence': 'Hank rolled his eyes at the terrible joke Sam made and left the room.',\n",
              " 'labels': ['Hank',\n",
              "  'eye roll',\n",
              "  'embarassed',\n",
              "  'Sam',\n",
              "  'shocked',\n",
              "  'angry',\n",
              "  'worried',\n",
              "  'run',\n",
              "  'walk',\n",
              "  'wave',\n",
              "  'jog',\n",
              "  'bored',\n",
              "  'shy',\n",
              "  'sit',\n",
              "  'stand',\n",
              "  'DebInBlack',\n",
              "  'MrsB',\n",
              "  'smile',\n",
              "  'Elanor',\n",
              "  'MrsShort',\n",
              "  'Bear',\n",
              "  'Helen',\n",
              "  'Abigail',\n",
              "  'Liana',\n",
              "  'Nathan',\n",
              "  'Deb',\n",
              "  'Mandy',\n",
              "  'Tom',\n",
              "  'Amy',\n",
              "  'Doug',\n",
              "  'Terry',\n",
              "  'Cathy',\n",
              "  'Ivy'],\n",
              " 'scores': [0.9942629933357239,\n",
              "  0.9917135238647461,\n",
              "  0.9904573559761047,\n",
              "  0.9770090579986572,\n",
              "  0.8545532822608948,\n",
              "  0.8418623208999634,\n",
              "  0.8180244565010071,\n",
              "  0.5128270387649536,\n",
              "  0.18781821429729462,\n",
              "  0.1679617315530777,\n",
              "  0.1172691211104393,\n",
              "  0.10005620121955872,\n",
              "  0.08684126287698746,\n",
              "  0.07791844010353088,\n",
              "  0.028663260862231255,\n",
              "  0.008142070844769478,\n",
              "  0.007150366436690092,\n",
              "  0.004290085285902023,\n",
              "  0.001344656222499907,\n",
              "  0.0012983978958800435,\n",
              "  0.0009933232795447111,\n",
              "  0.000341181323165074,\n",
              "  0.00030627395608462393,\n",
              "  0.00028713641222566366,\n",
              "  0.00021941975865047425,\n",
              "  0.00020254339324310422,\n",
              "  0.0002021428954321891,\n",
              "  0.00019665577565319836,\n",
              "  0.0001545273989904672,\n",
              "  0.00014060923422221094,\n",
              "  0.00012744923878926784,\n",
              "  0.00012278274516575038,\n",
              "  0.00011577826808206737]}"
            ]
          },
          "metadata": {},
          "execution_count": 49
        }
      ]
    }
  ]
}